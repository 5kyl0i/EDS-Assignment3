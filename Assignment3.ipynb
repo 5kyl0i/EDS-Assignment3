{
 "cells": [
  {
   "cell_type": "markdown",
   "metadata": {},
   "source": [
    "## Assignment 3: Web Scraping\n",
    "\n",
    "For this assignment, you are required to scrape data from e-commerce or other websites such as [Lelong](http://www.lelong.com.my), [Lazada](http://www.lazada.com.my/), [Mudah](http://www.mudah.my/), [iProperty](https://www.iproperty.com.my/), [Booking](http://www.booking.com), [Expedia](https://www.expedia.com.my/) etc.\n",
    "\n",
    "You are required to fork this Jupyter Notebook from my Github [here](https://github.com/kuanhoong/EDS-Assignment3 ) and then scrape the latest 1000 items from one of the website mentioned above. The scraped data should include:\n",
    "\n",
    "* Product Name/Product Title\n",
    "* Amount/Price\n",
    "* Brand\n",
    "* Comments/Reviews\n",
    "* Number of views\n",
    "\n",
    "In addition, you are required to export the scraped data to dataframe format and also save a copy in csv format. Upon successful extracting data to dataframe, you are required to do a data analysis on the data. \n",
    "\n",
    "Your analysis should provide answers to the following questions:\n",
    "* What do you think is interesting about this data? Tell a story about some interesting thing you have discovered by looking at the data.\n",
    "* Visualize your data with matplotlib or with folium library package.\n",
    "\n",
    "For example, you might consider whether there is a difference in pricings at different times doing the day or city, or whether other factors that influnced the pricings etc. Another thing you might consider is whether there is a relationship between the pricing and number of reviews or comments.\n",
    "\n",
    "Show your analysis workflow in your Jupyter notebook.\n",
    "\n",
    "The final submission should be pushed back to your respective Github account."
   ]
  },
  {
   "cell_type": "markdown",
   "metadata": {},
   "source": [
    "### Folium\n",
    "\n",
    "[Folium](https://github.com/python-visualization/folium) makes it easy to visualize data that's been manipulated in Python on an interactive Leaflet map. It enables both the binding of data to a map for choropleth visualizations as well as passing Vincent/Vega visualizations as markers on the map."
   ]
  },
  {
   "cell_type": "code",
   "execution_count": 4,
   "metadata": {},
   "outputs": [
    {
     "name": "stdout",
     "output_type": "stream",
     "text": [
      "Collecting folium\n",
      "  Downloading folium-0.3.0-py3-none-any.whl (71kB)\n",
      "Requirement already satisfied: six in c:\\users\\kwaiching.loi\\appdata\\local\\continuum\\anaconda3\\lib\\site-packages (from folium)\n",
      "Requirement already satisfied: Jinja2 in c:\\users\\kwaiching.loi\\appdata\\local\\continuum\\anaconda3\\lib\\site-packages (from folium)\n",
      "Collecting branca (from folium)\n",
      "  Downloading branca-0.2.0-py3-none-any.whl\n",
      "Requirement already satisfied: MarkupSafe>=0.23 in c:\\users\\kwaiching.loi\\appdata\\local\\continuum\\anaconda3\\lib\\site-packages (from Jinja2->folium)\n",
      "Installing collected packages: branca, folium\n",
      "Successfully installed branca-0.2.0 folium-0.3.0\n"
     ]
    }
   ],
   "source": [
    "!pip install folium"
   ]
  },
  {
   "cell_type": "code",
   "execution_count": 5,
   "metadata": {},
   "outputs": [],
   "source": [
    "import pandas as pd\n",
    "import re\n",
    "import numpy as np\n",
    "import folium\n",
    "import matplotlib.pyplot as plt\n",
    "%matplotlib inline\n",
    "from bs4 import BeautifulSoup\n",
    "import requests"
   ]
  },
  {
   "cell_type": "code",
   "execution_count": 6,
   "metadata": {},
   "outputs": [
    {
     "data": {
      "text/html": [
       "<div style=\"width:100%;\"><div style=\"position:relative;width:100%;height:0;padding-bottom:60%;\"><iframe src=\"data:text/html;charset=utf-8;base64,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\" style=\"position:absolute;width:100%;height:100%;left:0;top:0;border:none !important;\" allowfullscreen webkitallowfullscreen mozallowfullscreen></iframe></div></div>"
      ],
      "text/plain": [
       "<folium.folium.Map at 0xecd45bd550>"
      ]
     },
     "execution_count": 6,
     "metadata": {},
     "output_type": "execute_result"
    }
   ],
   "source": [
    "mapit = None\n",
    "latlon = [ (3.144473, 101.708722), (3.144473, 101.708722),(3.135732, 101.686989)]\n",
    "for coord in latlon:\n",
    "    mapit = folium.Map( location=[ coord[0], coord[1] ] )\n",
    "    folium.Marker([3.144473, 101.708722], icon=folium.Icon(color='blue',icon='star'), popup='Federal Hotel').add_to(mapit)\n",
    "    folium.Marker([3.156374, 101.714579], icon=folium.Icon(color='green',icon='info-sign') , popup='Mandarin Oriental').add_to(mapit)\n",
    "    folium.Marker([3.135732, 101.686989], icon=folium.Icon(color='red',icon='star') , popup='Le Meridien').add_to(mapit)\n",
    "mapit"
   ]
  },
  {
   "cell_type": "code",
   "execution_count": 48,
   "metadata": {
    "collapsed": true
   },
   "outputs": [
    {
     "data": {
      "text/plain": [
       "(['â\\x98\\x85 Urban Armor Gear UAG MacBook Pro 4th W/WO Touch Bar case',\n",
       "  'NEW MacBook Pro 13 13.3 A1706 A1708 Matte Frosted Hard Case Cover',\n",
       "  'APPLE MacBook Pro 13 13.3 A1278 Matte Frosted Hard Case Cover',\n",
       "  'MacBook Pro Retina 13 A1502 A1425 Matte Frosted Hard Case Cover',\n",
       "  \"NEW ORIGINAL Apple MacBook Pro 13'Unibody A1278 A1322 Mid 2009 2010 \",\n",
       "  'Thunderbolt Mini Displayport DP to VGA Adapter Cable Apple MacBook Pro',\n",
       "  'Genuine Apple 60W MagSafe Power Adapter Charger A1344 MacBook Pro',\n",
       "  'Apple 60W MagSafe 2 Power Adapter (for MacBook Pro with 13-inch Retina Display',\n",
       "  'Apple 85W MagSafe 2 Power Adapter (for MacBook Pro with Retina Display) - MD50',\n",
       "  'Apple 85W MagSafe Power Adapter (for 15- and 17-inch MacBook Pro) - MC556MY/B',\n",
       "  'MacBook Pro Retina 13 13.3 A1502 A1425 Matte Frosted Hard Case Cover',\n",
       "  'Apple 13-inch MacBook Pro with Touch Bar 3.1GHz Dual-core i5 512GB',\n",
       "  'Apple 13-inch MacBook Pro with Touch Bar 3.1GHz Dual-core i5 256GB',\n",
       "  'Apple 13-inch MacBook Pro 2.3GHz Dual-core i5 256GB',\n",
       "  'Apple 13-inch MacBook Pro 2.3GHz Dual-core i5 128GB',\n",
       "  '18Pcs Opening Tools Repair Kit For Smartphone Tablet MacBook Pro Air i',\n",
       "  'STM Dux 13 Inch MacBook Pro Retina 12 Hardshell Case',\n",
       "  'STM Dux 13 Inch Macbook Pro Retina 12 Hardshell Case Black - stm-122-094L-01',\n",
       "  'Genuine Apple 85W MagSafe 2 Power Adapter Charger A1424 MacBook Pro 15',\n",
       "  'MacBook Pro 13 13.3 A1278 Matte Frosted Hard Case Cover',\n",
       "  'MacBook Air Pro 13 13.3 MOSHI MUSE Microfiber Sleeve Bag Case Cover',\n",
       "  'MacBook Pro Retina 15 15.4 A1398 Matte Frosted Hard Case Cover',\n",
       "  'MacBook Pro Retina 13 13.3 A1502 A1425 Matte Frosted Hard Case Cover',\n",
       "  'Laptop MacBook Air Pro Retina 11 12 13 14 15.6 Sleeve Bag Case Cover',\n",
       "  'Think Tank Photo My 2nd Brain 13-fit a MacBook Pro/Air® 13â\\x80\\x9d + any iPad',\n",
       "  \"Apple Macbook Pro 13' Monocozzi Lucid Matt Translucent Hard Shell Case\",\n",
       "  'Apple MacBook Pro 13 i5 2.4GHz 1TB 6Gb Ram Notebook Rm2180',\n",
       "  'APPLE MACBOOK Pro MPXR2ZP/A 13.3\" NB SIL (i5 2.3GHz,8GB,128GB,INTEL)',\n",
       "  'MacBook Air 11.6 12 13.3 15 Pro Crystal Case Cover Casing + Free Gifts',\n",
       "  'Thunderbolt Mini Displayport DP to VGA Adapter Cable Apple MacBook Pro',\n",
       "  \"Soft Keyboard Protector Cover Skin for MacBook Pro / Air 13'/15'\",\n",
       "  \"Soft Keyboard Protector Cover Skin for MacBook Pro / Air 13'/15'\",\n",
       "  \"New ORI Original Apple MacBook Pro 13' A1278 A1322 Mid 2009 Battery\",\n",
       "  'MacBook Pro Retina 13 13.3 A1502 A1425 Matte Frosted Hard Case Cover',\n",
       "  'Hello Kitty MacBook Air Pro Case Cover Casing + Keyboard Protector',\n",
       "  'Cartinoe Macbook Pro Air 11 12 13 15 Sleeve Case Charger Bag Cover',\n",
       "  'Apple MacBook Air 11 12 13 15 Pro Retina Case Cover Casing Leather Bag',\n",
       "  'Apple MacBook Pro 15\" 17\" Series iBook G3 G4 12\" Battery',\n",
       "  'MacBook Air Pro 13 inch PU Leather Casing Case Cover',\n",
       "  'MacBook Air Pro 15 inch PU Leather Casing Case Cover',\n",
       "  'Apple Macbook Pro MPXR2ZP/A 13.3\" Laptop Silver (i5 2.3GHz, 8GB, 128GB, Intel,',\n",
       "  'Macbook PRO 13 Inch Designer Case - UK Flag',\n",
       "  'Macbook PRO 13 Inch Designer Case - Solar System',\n",
       "  'Macbook PRO 13 Inch Designer Case - American Flag',\n",
       "  'Emotal Apple MacBook 11 12 13 14 15 Air Pro Retina Bag Case Cover',\n",
       "  'Apple MacBook Air Pro Retina 11 12 13 14 15 Sleeve Bag Case Cover',\n",
       "  'Macbook Air Pro Stylish Fashion Unique Casing Case Cover Laptop Bag',\n",
       "  'Macbook Pro/Air 13inch protective shell',\n",
       "  'Apple laptop bag macbook Air/Pro protective cover',\n",
       "  'Apple macbook Air/Pro kraft paper protective sleeve',\n",
       "  'Macbook Pro/Air Sleeve 11/12/13/15 inch laptop bag',\n",
       "  'Apple laptop bag Macbook Air 11/12/13/15inch Pro Sleeve',\n",
       "  'Macbook Air/Pro 11/12/13.3/15 inch shockproof protective sleeve',\n",
       "  'Macbook Air Pro 13 inch - Laptop Bag Casing Case Cover *Free small bag',\n",
       "  'Macbook Air Pro 11 inch - Laptop Bag Casing Case Cover',\n",
       "  'Apple macbook air/pro wooden docking stand',\n",
       "  'MacBook Air Pro 13 inch PU Leather Casing Case Cover',\n",
       "  'MacBook Air Pro 15 inch PU Leather Casing Case Cover',\n",
       "  '2016 Apple Macbook Pro 12/13/15 inch leather protective sleeve',\n",
       "  'Apple MacBook Pro / Retina 15\" Original Adidas Sleeve Case'],\n",
       " ['339.00',\n",
       "  '28.00',\n",
       "  '26.00',\n",
       "  '28.00',\n",
       "  '254.40',\n",
       "  '31.90',\n",
       "  '170.00',\n",
       "  '349.00',\n",
       "  '349.00',\n",
       "  '349.00',\n",
       "  '80.00',\n",
       "  '8,899.00',\n",
       "  '7,999.00',\n",
       "  '6,899.00',\n",
       "  '5,999.00',\n",
       "  '82.99',\n",
       "  '210.94',\n",
       "  '210.94',\n",
       "  '170.00',\n",
       "  '28.00',\n",
       "  '45.00',\n",
       "  '28.00',\n",
       "  '28.00',\n",
       "  '48.90',\n",
       "  '475.00',\n",
       "  '168.00',\n",
       "  '2,180.00',\n",
       "  '5,880.00',\n",
       "  '47.90',\n",
       "  '59.90',\n",
       "  '49.00',\n",
       "  '49.00',\n",
       "  '399.00',\n",
       "  '79.90',\n",
       "  '58.90',\n",
       "  '87.90',\n",
       "  '68.90',\n",
       "  '329.00',\n",
       "  '53.80',\n",
       "  '63.80',\n",
       "  '5,883.00',\n",
       "  '89.00',\n",
       "  '89.00',\n",
       "  '89.00',\n",
       "  '69.90',\n",
       "  '69.90',\n",
       "  '69.90',\n",
       "  '69.90',\n",
       "  '99.90',\n",
       "  '99.90',\n",
       "  '79.90',\n",
       "  '89.90',\n",
       "  '69.90',\n",
       "  '59.90',\n",
       "  '69.90',\n",
       "  '99.90',\n",
       "  '53.80',\n",
       "  '53.80',\n",
       "  '69.90',\n",
       "  '199.00'])"
      ]
     },
     "execution_count": 48,
     "metadata": {},
     "output_type": "execute_result"
    }
   ],
   "source": [
    "# scrape from lelong\n",
    "\n",
    "# find the pattern for the first page\n",
    "url = 'https://www.lelong.com.my/catalog/all/list?TheKeyword=macbook+pro&D='\n",
    "\n",
    "# write a loop to scrape from page 1 to the last page\n",
    "\n",
    "product_name=[]\n",
    "pricing = []\n",
    "for page in range(1,2):\n",
    "    url_page = url+str(page)\n",
    "    scrape = requests.get(url_page)\n",
    "    soup = BeautifulSoup(scrape.content, 'lxml')\n",
    "    link = soup.find_all('div',{'class':'item','class':'summary'})\n",
    "    link1 = soup.find_all('span',{'class':'price pull-right'})\n",
    "    length = len(link)\n",
    "    for i in range(0,length):\n",
    "        name = link[i].a.get('title')\n",
    "        price = link1[i].b.string\n",
    "        pricing.append(price.replace('RM ',''))\n",
    "        product_name.append(name)\n",
    "product_name, pricing"
   ]
  },
  {
   "cell_type": "code",
   "execution_count": 56,
   "metadata": {},
   "outputs": [],
   "source": [
    "# write to csv\n",
    "# convert the list to a pandas dataframe\n",
    "\n",
    "df = pd.DataFrame({'name':product_name,'price':pricing})\n",
    "df\n",
    "\n",
    "df.to_csv('output.csv', index=False)\n",
    "\n"
   ]
  }
 ],
 "metadata": {
  "kernelspec": {
   "display_name": "Python 3",
   "language": "python",
   "name": "python3"
  },
  "language_info": {
   "codemirror_mode": {
    "name": "ipython",
    "version": 3
   },
   "file_extension": ".py",
   "mimetype": "text/x-python",
   "name": "python",
   "nbconvert_exporter": "python",
   "pygments_lexer": "ipython3",
   "version": "3.6.1"
  }
 },
 "nbformat": 4,
 "nbformat_minor": 2
}
